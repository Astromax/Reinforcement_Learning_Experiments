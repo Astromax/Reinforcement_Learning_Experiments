{
  "nbformat": 4,
  "nbformat_minor": 0,
  "metadata": {
    "colab": {
      "name": "LunarLander_PolicyExploration.ipynb",
      "provenance": [],
      "collapsed_sections": [],
      "authorship_tag": "ABX9TyMAlLCiLkOKpZ6Fvrr5e8ny",
      "include_colab_link": true
    },
    "kernelspec": {
      "name": "python3",
      "display_name": "Python 3"
    },
    "language_info": {
      "name": "python"
    }
  },
  "cells": [
    {
      "cell_type": "markdown",
      "metadata": {
        "id": "view-in-github",
        "colab_type": "text"
      },
      "source": [
        "<a href=\"https://colab.research.google.com/github/Astromax/Reinforcement_Learning_Experiments/blob/main/LunarLander_PolicyExploration.ipynb\" target=\"_parent\"><img src=\"https://colab.research.google.com/assets/colab-badge.svg\" alt=\"Open In Colab\"/></a>"
      ]
    },
    {
      "cell_type": "markdown",
      "metadata": {
        "id": "iub1wa0i2La6"
      },
      "source": [
        "## Overview\n",
        "The idea here is to test several exploration policies for the LunarLander_v2 environment provided by OpenAI. A full description can be found here https://gym.openai.com/envs/LunarLander-v2/, the environment is considered \"solved\" with a score of at least 200.0.\n"
      ]
    },
    {
      "cell_type": "code",
      "metadata": {
        "colab": {
          "base_uri": "https://localhost:8080/"
        },
        "id": "SsOWYo-92l7W",
        "outputId": "c118a3c5-e51b-4190-d0d4-a9eed1403f72"
      },
      "source": [
        "print(f'Commence experiment')"
      ],
      "execution_count": null,
      "outputs": [
        {
          "output_type": "stream",
          "name": "stdout",
          "text": [
            "Commence experiment\n"
          ]
        }
      ]
    },
    {
      "cell_type": "markdown",
      "metadata": {
        "id": "aYuHM35OcRm-"
      },
      "source": [
        "First we must install some necessary packages."
      ]
    },
    {
      "cell_type": "code",
      "metadata": {
        "colab": {
          "base_uri": "https://localhost:8080/"
        },
        "id": "pMKP0FZopikj",
        "outputId": "0a323b0a-4e26-411f-97c1-be0e0018493a"
      },
      "source": [
        "!pip3 install box2d\n",
        "!python -m pip install pyvirtualdisplay"
      ],
      "execution_count": null,
      "outputs": [
        {
          "output_type": "stream",
          "name": "stdout",
          "text": [
            "Collecting box2d\n",
            "  Downloading Box2D-2.3.10-cp37-cp37m-manylinux1_x86_64.whl (1.3 MB)\n",
            "\u001b[?25l\r\u001b[K     |▎                               | 10 kB 22.0 MB/s eta 0:00:01\r\u001b[K     |▌                               | 20 kB 25.3 MB/s eta 0:00:01\r\u001b[K     |▊                               | 30 kB 30.8 MB/s eta 0:00:01\r\u001b[K     |█                               | 40 kB 34.0 MB/s eta 0:00:01\r\u001b[K     |█▎                              | 51 kB 36.1 MB/s eta 0:00:01\r\u001b[K     |█▌                              | 61 kB 38.7 MB/s eta 0:00:01\r\u001b[K     |█▊                              | 71 kB 40.0 MB/s eta 0:00:01\r\u001b[K     |██                              | 81 kB 39.3 MB/s eta 0:00:01\r\u001b[K     |██▎                             | 92 kB 40.2 MB/s eta 0:00:01\r\u001b[K     |██▌                             | 102 kB 37.4 MB/s eta 0:00:01\r\u001b[K     |██▊                             | 112 kB 37.4 MB/s eta 0:00:01\r\u001b[K     |███                             | 122 kB 37.4 MB/s eta 0:00:01\r\u001b[K     |███▏                            | 133 kB 37.4 MB/s eta 0:00:01\r\u001b[K     |███▌                            | 143 kB 37.4 MB/s eta 0:00:01\r\u001b[K     |███▊                            | 153 kB 37.4 MB/s eta 0:00:01\r\u001b[K     |████                            | 163 kB 37.4 MB/s eta 0:00:01\r\u001b[K     |████▏                           | 174 kB 37.4 MB/s eta 0:00:01\r\u001b[K     |████▌                           | 184 kB 37.4 MB/s eta 0:00:01\r\u001b[K     |████▊                           | 194 kB 37.4 MB/s eta 0:00:01\r\u001b[K     |█████                           | 204 kB 37.4 MB/s eta 0:00:01\r\u001b[K     |█████▏                          | 215 kB 37.4 MB/s eta 0:00:01\r\u001b[K     |█████▌                          | 225 kB 37.4 MB/s eta 0:00:01\r\u001b[K     |█████▊                          | 235 kB 37.4 MB/s eta 0:00:01\r\u001b[K     |██████                          | 245 kB 37.4 MB/s eta 0:00:01\r\u001b[K     |██████▏                         | 256 kB 37.4 MB/s eta 0:00:01\r\u001b[K     |██████▍                         | 266 kB 37.4 MB/s eta 0:00:01\r\u001b[K     |██████▊                         | 276 kB 37.4 MB/s eta 0:00:01\r\u001b[K     |███████                         | 286 kB 37.4 MB/s eta 0:00:01\r\u001b[K     |███████▏                        | 296 kB 37.4 MB/s eta 0:00:01\r\u001b[K     |███████▍                        | 307 kB 37.4 MB/s eta 0:00:01\r\u001b[K     |███████▊                        | 317 kB 37.4 MB/s eta 0:00:01\r\u001b[K     |████████                        | 327 kB 37.4 MB/s eta 0:00:01\r\u001b[K     |████████▏                       | 337 kB 37.4 MB/s eta 0:00:01\r\u001b[K     |████████▍                       | 348 kB 37.4 MB/s eta 0:00:01\r\u001b[K     |████████▊                       | 358 kB 37.4 MB/s eta 0:00:01\r\u001b[K     |█████████                       | 368 kB 37.4 MB/s eta 0:00:01\r\u001b[K     |█████████▏                      | 378 kB 37.4 MB/s eta 0:00:01\r\u001b[K     |█████████▍                      | 389 kB 37.4 MB/s eta 0:00:01\r\u001b[K     |█████████▋                      | 399 kB 37.4 MB/s eta 0:00:01\r\u001b[K     |██████████                      | 409 kB 37.4 MB/s eta 0:00:01\r\u001b[K     |██████████▏                     | 419 kB 37.4 MB/s eta 0:00:01\r\u001b[K     |██████████▍                     | 430 kB 37.4 MB/s eta 0:00:01\r\u001b[K     |██████████▋                     | 440 kB 37.4 MB/s eta 0:00:01\r\u001b[K     |███████████                     | 450 kB 37.4 MB/s eta 0:00:01\r\u001b[K     |███████████▏                    | 460 kB 37.4 MB/s eta 0:00:01\r\u001b[K     |███████████▍                    | 471 kB 37.4 MB/s eta 0:00:01\r\u001b[K     |███████████▋                    | 481 kB 37.4 MB/s eta 0:00:01\r\u001b[K     |████████████                    | 491 kB 37.4 MB/s eta 0:00:01\r\u001b[K     |████████████▏                   | 501 kB 37.4 MB/s eta 0:00:01\r\u001b[K     |████████████▍                   | 512 kB 37.4 MB/s eta 0:00:01\r\u001b[K     |████████████▋                   | 522 kB 37.4 MB/s eta 0:00:01\r\u001b[K     |████████████▉                   | 532 kB 37.4 MB/s eta 0:00:01\r\u001b[K     |█████████████▏                  | 542 kB 37.4 MB/s eta 0:00:01\r\u001b[K     |█████████████▍                  | 552 kB 37.4 MB/s eta 0:00:01\r\u001b[K     |█████████████▋                  | 563 kB 37.4 MB/s eta 0:00:01\r\u001b[K     |█████████████▉                  | 573 kB 37.4 MB/s eta 0:00:01\r\u001b[K     |██████████████▏                 | 583 kB 37.4 MB/s eta 0:00:01\r\u001b[K     |██████████████▍                 | 593 kB 37.4 MB/s eta 0:00:01\r\u001b[K     |██████████████▋                 | 604 kB 37.4 MB/s eta 0:00:01\r\u001b[K     |██████████████▉                 | 614 kB 37.4 MB/s eta 0:00:01\r\u001b[K     |███████████████▏                | 624 kB 37.4 MB/s eta 0:00:01\r\u001b[K     |███████████████▍                | 634 kB 37.4 MB/s eta 0:00:01\r\u001b[K     |███████████████▋                | 645 kB 37.4 MB/s eta 0:00:01\r\u001b[K     |███████████████▉                | 655 kB 37.4 MB/s eta 0:00:01\r\u001b[K     |████████████████                | 665 kB 37.4 MB/s eta 0:00:01\r\u001b[K     |████████████████▍               | 675 kB 37.4 MB/s eta 0:00:01\r\u001b[K     |████████████████▋               | 686 kB 37.4 MB/s eta 0:00:01\r\u001b[K     |████████████████▉               | 696 kB 37.4 MB/s eta 0:00:01\r\u001b[K     |█████████████████               | 706 kB 37.4 MB/s eta 0:00:01\r\u001b[K     |█████████████████▍              | 716 kB 37.4 MB/s eta 0:00:01\r\u001b[K     |█████████████████▋              | 727 kB 37.4 MB/s eta 0:00:01\r\u001b[K     |█████████████████▉              | 737 kB 37.4 MB/s eta 0:00:01\r\u001b[K     |██████████████████              | 747 kB 37.4 MB/s eta 0:00:01\r\u001b[K     |██████████████████▎             | 757 kB 37.4 MB/s eta 0:00:01\r\u001b[K     |██████████████████▋             | 768 kB 37.4 MB/s eta 0:00:01\r\u001b[K     |██████████████████▉             | 778 kB 37.4 MB/s eta 0:00:01\r\u001b[K     |███████████████████             | 788 kB 37.4 MB/s eta 0:00:01\r\u001b[K     |███████████████████▎            | 798 kB 37.4 MB/s eta 0:00:01\r\u001b[K     |███████████████████▋            | 808 kB 37.4 MB/s eta 0:00:01\r\u001b[K     |███████████████████▉            | 819 kB 37.4 MB/s eta 0:00:01\r\u001b[K     |████████████████████            | 829 kB 37.4 MB/s eta 0:00:01\r\u001b[K     |████████████████████▎           | 839 kB 37.4 MB/s eta 0:00:01\r\u001b[K     |████████████████████▋           | 849 kB 37.4 MB/s eta 0:00:01\r\u001b[K     |████████████████████▉           | 860 kB 37.4 MB/s eta 0:00:01\r\u001b[K     |█████████████████████           | 870 kB 37.4 MB/s eta 0:00:01\r\u001b[K     |█████████████████████▎          | 880 kB 37.4 MB/s eta 0:00:01\r\u001b[K     |█████████████████████▌          | 890 kB 37.4 MB/s eta 0:00:01\r\u001b[K     |█████████████████████▉          | 901 kB 37.4 MB/s eta 0:00:01\r\u001b[K     |██████████████████████          | 911 kB 37.4 MB/s eta 0:00:01\r\u001b[K     |██████████████████████▎         | 921 kB 37.4 MB/s eta 0:00:01\r\u001b[K     |██████████████████████▌         | 931 kB 37.4 MB/s eta 0:00:01\r\u001b[K     |██████████████████████▉         | 942 kB 37.4 MB/s eta 0:00:01\r\u001b[K     |███████████████████████         | 952 kB 37.4 MB/s eta 0:00:01\r\u001b[K     |███████████████████████▎        | 962 kB 37.4 MB/s eta 0:00:01\r\u001b[K     |███████████████████████▌        | 972 kB 37.4 MB/s eta 0:00:01\r\u001b[K     |███████████████████████▉        | 983 kB 37.4 MB/s eta 0:00:01\r\u001b[K     |████████████████████████        | 993 kB 37.4 MB/s eta 0:00:01\r\u001b[K     |████████████████████████▎       | 1.0 MB 37.4 MB/s eta 0:00:01\r\u001b[K     |████████████████████████▌       | 1.0 MB 37.4 MB/s eta 0:00:01\r\u001b[K     |████████████████████████▊       | 1.0 MB 37.4 MB/s eta 0:00:01\r\u001b[K     |█████████████████████████       | 1.0 MB 37.4 MB/s eta 0:00:01\r\u001b[K     |█████████████████████████▎      | 1.0 MB 37.4 MB/s eta 0:00:01\r\u001b[K     |█████████████████████████▌      | 1.1 MB 37.4 MB/s eta 0:00:01\r\u001b[K     |█████████████████████████▊      | 1.1 MB 37.4 MB/s eta 0:00:01\r\u001b[K     |██████████████████████████      | 1.1 MB 37.4 MB/s eta 0:00:01\r\u001b[K     |██████████████████████████▎     | 1.1 MB 37.4 MB/s eta 0:00:01\r\u001b[K     |██████████████████████████▌     | 1.1 MB 37.4 MB/s eta 0:00:01\r\u001b[K     |██████████████████████████▊     | 1.1 MB 37.4 MB/s eta 0:00:01\r\u001b[K     |███████████████████████████     | 1.1 MB 37.4 MB/s eta 0:00:01\r\u001b[K     |███████████████████████████▎    | 1.1 MB 37.4 MB/s eta 0:00:01\r\u001b[K     |███████████████████████████▌    | 1.1 MB 37.4 MB/s eta 0:00:01\r\u001b[K     |███████████████████████████▊    | 1.1 MB 37.4 MB/s eta 0:00:01\r\u001b[K     |████████████████████████████    | 1.2 MB 37.4 MB/s eta 0:00:01\r\u001b[K     |████████████████████████████▎   | 1.2 MB 37.4 MB/s eta 0:00:01\r\u001b[K     |████████████████████████████▌   | 1.2 MB 37.4 MB/s eta 0:00:01\r\u001b[K     |████████████████████████████▊   | 1.2 MB 37.4 MB/s eta 0:00:01\r\u001b[K     |█████████████████████████████   | 1.2 MB 37.4 MB/s eta 0:00:01\r\u001b[K     |█████████████████████████████▎  | 1.2 MB 37.4 MB/s eta 0:00:01\r\u001b[K     |█████████████████████████████▌  | 1.2 MB 37.4 MB/s eta 0:00:01\r\u001b[K     |█████████████████████████████▊  | 1.2 MB 37.4 MB/s eta 0:00:01\r\u001b[K     |██████████████████████████████  | 1.2 MB 37.4 MB/s eta 0:00:01\r\u001b[K     |██████████████████████████████▎ | 1.2 MB 37.4 MB/s eta 0:00:01\r\u001b[K     |██████████████████████████████▌ | 1.3 MB 37.4 MB/s eta 0:00:01\r\u001b[K     |██████████████████████████████▊ | 1.3 MB 37.4 MB/s eta 0:00:01\r\u001b[K     |███████████████████████████████ | 1.3 MB 37.4 MB/s eta 0:00:01\r\u001b[K     |███████████████████████████████▏| 1.3 MB 37.4 MB/s eta 0:00:01\r\u001b[K     |███████████████████████████████▌| 1.3 MB 37.4 MB/s eta 0:00:01\r\u001b[K     |███████████████████████████████▊| 1.3 MB 37.4 MB/s eta 0:00:01\r\u001b[K     |████████████████████████████████| 1.3 MB 37.4 MB/s eta 0:00:01\r\u001b[K     |████████████████████████████████| 1.3 MB 37.4 MB/s \n",
            "\u001b[?25hInstalling collected packages: box2d\n",
            "Successfully installed box2d-2.3.10\n",
            "Collecting pyvirtualdisplay\n",
            "  Downloading PyVirtualDisplay-2.2-py3-none-any.whl (15 kB)\n",
            "Collecting EasyProcess\n",
            "  Downloading EasyProcess-0.3-py2.py3-none-any.whl (7.9 kB)\n",
            "Installing collected packages: EasyProcess, pyvirtualdisplay\n",
            "Successfully installed EasyProcess-0.3 pyvirtualdisplay-2.2\n"
          ]
        }
      ]
    },
    {
      "cell_type": "code",
      "metadata": {
        "id": "CEKGE7BXgTjh"
      },
      "source": [
        "#Main imports\n",
        "from collections import deque\n",
        "from collections import namedtuple\n",
        "\n",
        "import gym\n",
        "\n",
        "import matplotlib.pyplot as plt\n",
        "\n",
        "import numpy as np\n",
        "\n",
        "import pandas as pd\n",
        "from pyvirtualdisplay import Display\n",
        "\n",
        "import random\n",
        "\n",
        "import torch\n",
        "import torch.nn as nn\n",
        "import torch.nn.functional as F\n",
        "import torch.optim as optim\n",
        "\n",
        "%matplotlib inline\n",
        "\n",
        "is_ipython = 'inline' in plt.get_backend()\n",
        "if is_ipython:\n",
        "    from IPython import display\n",
        "\n",
        "plt.ion()"
      ],
      "execution_count": null,
      "outputs": []
    },
    {
      "cell_type": "code",
      "metadata": {
        "colab": {
          "base_uri": "https://localhost:8080/"
        },
        "id": "Okhzdr-aiVwl",
        "outputId": "58d8c62e-5977-4068-cd4e-c569535025fb"
      },
      "source": [
        "#Create the environment\n",
        "env = gym.make('LunarLander-v2')\n",
        "env.seed(0)\n",
        "print('State shape: ', env.observation_space.shape)\n",
        "print('Number of actions: ', env.action_space.n)"
      ],
      "execution_count": null,
      "outputs": [
        {
          "output_type": "stream",
          "name": "stdout",
          "text": [
            "State shape:  (8,)\n",
            "Number of actions:  4\n"
          ]
        }
      ]
    },
    {
      "cell_type": "code",
      "metadata": {
        "colab": {
          "base_uri": "https://localhost:8080/"
        },
        "id": "490pTB3Sf54E",
        "outputId": "d73fc638-b3d6-432c-cef8-d95bc0868494"
      },
      "source": [
        "#Mount the drive\n",
        "from google.colab import drive\n",
        "drive.mount('/content/drive')"
      ],
      "execution_count": null,
      "outputs": [
        {
          "output_type": "stream",
          "name": "stdout",
          "text": [
            "Mounted at /content/drive\n"
          ]
        }
      ]
    },
    {
      "cell_type": "code",
      "metadata": {
        "id": "zQSy-4ucgLbg"
      },
      "source": [
        "#Import os & move to appropriate directory\n",
        "import os\n",
        "os.chdir('/content/drive/MyDrive/Reinforcement_Learning_experiments')\n",
        "MAIN_DIR = '/content/drive/MyDrive/Reinforcement_Learning_experiments'"
      ],
      "execution_count": null,
      "outputs": []
    },
    {
      "cell_type": "code",
      "metadata": {
        "id": "Wk2G0j3ar1iW"
      },
      "source": [
        "#Final imports\n",
        "from qnetworks import BaseQNetwork\n",
        "from qnetworks import DuelingQNetwork\n",
        "\n",
        "from replays import ReplayBuffer"
      ],
      "execution_count": null,
      "outputs": []
    },
    {
      "cell_type": "markdown",
      "metadata": {
        "id": "FVT4NV9kUg06"
      },
      "source": [
        "## Globals\n",
        "The next cell initializes the global parameters used for the training loop & the plot generator, as well as setting the device to the GPU if available."
      ]
    },
    {
      "cell_type": "code",
      "metadata": {
        "id": "Pyp5kR1Am5tM"
      },
      "source": [
        "#Establish globals\n",
        "EPSILON = 1.0           # Initial value of exploration parameter epsilon\n",
        "EPS_DECAY = 0.995       # Decay constant for exploration parameter\n",
        "MAX_TSTEPS = 1000       # Maximum number of time steps per episode\n",
        "MIN_EPS = 0.01          # Minimum value for exploration parameter\n",
        "NUM_EPISODES = 2000     # Number of training episodes\n",
        "SEED = 37               # random seed\n",
        "WINDOW_SIZE = 100       # window size for moving average\n",
        "\n",
        "device = torch.device(\"cuda:0\" if torch.cuda.is_available() else \"cpu\")"
      ],
      "execution_count": null,
      "outputs": []
    },
    {
      "cell_type": "markdown",
      "metadata": {
        "id": "_6AkrPyxU4O1"
      },
      "source": [
        "## Training Loop\n",
        "The next cell defines the training loop, which can work with any of the agents tested in this notebook.  It uses an exponentially decaying exploration parameter with a hard minimum, meaning it decays to some particular value then holds steady there for all remaining episodes.  Other options for varying the exploration parameter include linear decay with a minimum and harmonic decay, in which the exploration parameter in episode $i$ is $\\frac{1}{i}$, either with or without a floor."
      ]
    },
    {
      "cell_type": "code",
      "metadata": {
        "id": "oIEg1ghgii_R"
      },
      "source": [
        "def train(agent, n_episodes: int=NUM_EPISODES, max_t: int=MAX_TSTEPS, eps_start: float=EPSILON, \n",
        "          eps_end: float=MIN_EPS, eps_decay: float=EPS_DECAY):\n",
        "    \"\"\"Deep Q-Learning.\n",
        "    \n",
        "    Params\n",
        "    ======\n",
        "        n_episodes (int): maximum number of training episodes\n",
        "        max_t (int): maximum number of timesteps per episode\n",
        "        eps_start (float): starting value of epsilon, for epsilon-greedy action selection\n",
        "        eps_end (float): minimum value of epsilon\n",
        "        eps_decay (float): multiplicative factor (per episode) for decreasing epsilon\n",
        "    \"\"\"\n",
        "    scores = []                        # list containing scores from each episode\n",
        "    scores_window = deque(maxlen=100)  # last 100 scores\n",
        "    eps = eps_start                    # initialize epsilon\n",
        "    for i_episode in range(1, n_episodes+1):\n",
        "        state = env.reset()\n",
        "        score = 0\n",
        "        for t in range(max_t):\n",
        "            action = agent.act(state, eps)\n",
        "            next_state, reward, done, _ = env.step(action)\n",
        "            agent.step(state, action, reward, next_state, done)\n",
        "            state = next_state\n",
        "            score += reward\n",
        "            if done:\n",
        "                break \n",
        "        scores_window.append(score)       # save most recent score\n",
        "        scores.append(score)              # save most recent score\n",
        "        eps = max(eps_end, eps_decay*eps) # decrease epsilon\n",
        "        print('\\rEpisode {}\\tAverage Score: {:.2f}'.format(i_episode, np.mean(scores_window)), end=\"\")\n",
        "        if i_episode % 100 == 0:\n",
        "            print('\\rEpisode {}\\tAverage Score: {:.2f}'.format(i_episode, np.mean(scores_window)))\n",
        "        #if np.mean(scores_window)>=200.0:\n",
        "            #print('\\nEnvironment solved in {:d} episodes!\\tAverage Score: {:.2f}'.format(i_episode-100, np.mean(scores_window)))\n",
        "            #torch.save(agent.qnetwork_primary.state_dict(), 'checkpoint.pth')\n",
        "            #break\n",
        "    return scores\n"
      ],
      "execution_count": null,
      "outputs": []
    },
    {
      "cell_type": "markdown",
      "metadata": {
        "id": "f9cwSgljV-BS"
      },
      "source": [
        "##Plot Generator\n",
        "This function takes the raw scores from the training loop, smoothes them according to the window size, produces an appropriately-labelled plot and saves it for posterity."
      ]
    },
    {
      "cell_type": "code",
      "metadata": {
        "id": "U3mb9_6top4s"
      },
      "source": [
        "def generate_plot(name: str, mode: str, scores: list, window: int) -> None:\n",
        "    firstpass = np.where(np.array(scores) > 200.0)[0][0]\n",
        "    print(f'First pass in Episode: {firstpass}')\n",
        "    score_series = pd.Series(scores)\n",
        "    windows = score_series.rolling(window)\n",
        "    smoothedscores = windows.mean()\n",
        "    firstave = np.where(np.array(smoothedscores) > 200.0)[0][0]\n",
        "    print(f'First full pass in Episode: {firstave}')\n",
        "    maxave = np.max(smoothedscores)\n",
        "    maxind = smoothedscores.idxmax()\n",
        "    print(f'Maximum Average Score: {maxave}')\n",
        "    print(f'Maximum Episode Index: {maxind}')\n",
        "    \n",
        "    plt.plot(smoothedscores)\n",
        "    plt.axvline(x=firstave)\n",
        "    plt.axhline(y=200.0)\n",
        "    plt.title(f'{name} with {mode} Experience Replay Average Scores')\n",
        "    plt.xlabel('Episode')\n",
        "    plt.ylabel(f'Average Score over {window} Episodes')\n",
        "    plt.savefig(f'{name}_{mode}_Averages.png')\n",
        "    return\n"
      ],
      "execution_count": null,
      "outputs": []
    },
    {
      "cell_type": "code",
      "metadata": {
        "id": "5l9mB2GEzKPB"
      },
      "source": [
        "#Establish hyperparameters\n",
        "BUFFER_SIZE = int(1e5)  # replay buffer size\n",
        "BATCH_SIZE = 64         # minibatch size\n",
        "GAMMA = 0.99            # discount factor\n",
        "LR = 5e-4               # learning rate\n",
        "TAU = 1e-3              # for soft update of target parameters\n",
        "UPDATE_EVERY = 4        # how often to update the network"
      ],
      "execution_count": null,
      "outputs": []
    },
    {
      "cell_type": "code",
      "metadata": {
        "id": "VGrj3qkSoEDH"
      },
      "source": [
        "basehypers = {'BATCH_SIZE': BATCH_SIZE, 'BUFFER_SIZE': BUFFER_SIZE, \n",
        "              'GAMMA': GAMMA, 'LR': LR, 'TAU': TAU, 'UPDATE_EVERY': UPDATE_EVERY}"
      ],
      "execution_count": null,
      "outputs": []
    },
    {
      "cell_type": "markdown",
      "metadata": {
        "id": "DR8g4AdKnQDK"
      },
      "source": [
        "## $\\epsilon$-Greedy Policy\n",
        "This is the usual policy used in early Reinforcement Learning courses, for both tabular systems & those which require neural network function approximators.  With probability $1 - ϵ$ the agent chooses the action that has the greatest value given it's state, whereas with probability $ϵ$ it chooses an action uniformly at random, including potentially that same most-valuable action.  The idea is to trade off exploration & exploitation, starting with an initially large exploration parameter & reducing it as more episodes accumulate and estimates of the true action-values become more certain."
      ]
    },
    {
      "cell_type": "code",
      "metadata": {
        "id": "U9cwYIPnhaay"
      },
      "source": [
        "class EpsilonGreedyAgent:\n",
        "    def __init__(self, state_size: int, action_size: int, seed: int, hypers: dict, device: torch.device):\n",
        "\n",
        "        self.state_size = state_size\n",
        "        self.action_size = action_size\n",
        "        self.seed = seed\n",
        "\n",
        "        self.batch_size    = hypers['BATCH_SIZE']\n",
        "        self.buffer_size   = hypers['BUFFER_SIZE']\n",
        "        self.gamma         = hypers['GAMMA']\n",
        "        self.learning_rate = hypers['LR']\n",
        "        self.tau           = hypers['TAU']\n",
        "        self.update_every  = hypers['UPDATE_EVERY']\n",
        "\n",
        "        self.device = device\n",
        "        \n",
        "        #Qnetworks: primary, target, and optimizer\n",
        "        self.qnetwork_primary = DuelingQNetwork(state_size, action_size, seed).to(device)\n",
        "        self.qnetwork_target = DuelingQNetwork(state_size, action_size, seed).to(device)\n",
        "        self.optimizer = optim.Adam(self.qnetwork_primary.parameters(), lr=self.learning_rate)\n",
        "        \n",
        "        #Replay buffer\n",
        "        self.memory = ReplayBuffer(action_size, self.buffer_size, self.batch_size, seed, device)\n",
        "        # Initialize time step (for updating every UPDATE_EVERY steps)\n",
        "        self.t_step = 0\n",
        "\n",
        "    def step(self, state: np.array, action: int, reward: float, next_state: np.array, done: bool) -> None:\n",
        "        #Add to the memory buffer\n",
        "        self.memory.add(state, action, reward, next_state, done)\n",
        "        \n",
        "        # Learn every UPDATE_EVERY time steps.\n",
        "        self.t_step = (self.t_step + 1) % self.update_every\n",
        "        if self.t_step == 0:\n",
        "            # If enough samples are available in memory, get random subset and learn\n",
        "            if len(self.memory) > self.batch_size:\n",
        "                experiences = self.memory.sample()\n",
        "                self.learn(experiences)\n",
        "\n",
        "    def act(self, state: np.array, eps: float) -> int:\n",
        "        \"\"\"Returns actions for given state as per current policy\"\"\"\n",
        "        state = torch.from_numpy(state).float().unsqueeze(0).to(self.device)\n",
        "        self.qnetwork_primary.eval()\n",
        "        with torch.no_grad():\n",
        "            action_values = self.qnetwork_primary(state)\n",
        "        self.qnetwork_primary.train()\n",
        "        \n",
        "        #Epsilon-greedy action selection \n",
        "        if random.random() > eps:\n",
        "            return np.argmax(action_values.cpu().data.numpy())\n",
        "        return random.choice(np.arange(self.action_size))\n",
        "\n",
        "    def learn(self, experiences: tuple) -> None:\n",
        "        \"\"\"The core of the algorithm, the actual updating of the network parameters\"\"\"\n",
        "        states, actions, rewards, next_states, dones = experiences\n",
        "    \n",
        "        #Select next state actions using the *primary* network\n",
        "        argmax_a_q_sp = self.qnetwork_primary(next_states).max(1)[1]\n",
        "        #Get the next state action values using the *target* network\n",
        "        q_sp = self.qnetwork_target(next_states).detach()\n",
        "        #Index the q-values of the target network using the indices chosen by the primary,\n",
        "        #so: primary network chooses action, target network evaluates action --> DDQN\n",
        "        max_a_q_sp = q_sp[np.arange(self.batch_size), argmax_a_q_sp].unsqueeze(1) * (1 - dones)\n",
        "        #Compute the target values\n",
        "        target_q_sa = rewards + self.gamma * max_a_q_sp\n",
        "        #Get the actual action values\n",
        "        q_sa = self.qnetwork_primary(states).gather(1, actions)\n",
        "        \n",
        "        # Compute loss\n",
        "        loss = F.mse_loss(q_sa, target_q_sa)\n",
        "        # Minimize the loss\n",
        "        self.optimizer.zero_grad()\n",
        "        loss.backward()\n",
        "        self.optimizer.step()\n",
        "        \n",
        "        # ------------------- update target network ------------------- #\n",
        "        self.soft_update()\n",
        "\n",
        "    def soft_update(self) -> None:\n",
        "        \"\"\"Soft update model parameters.\n",
        "        θ_target = τ*θ_local + (1 - τ)*θ_target\n",
        "        \"\"\"\n",
        "        for target_param, local_param in zip(self.qnetwork_target.parameters(), self.qnetwork_primary.parameters()):\n",
        "            target_param.data.copy_(self.tau * local_param.data + (1.0 - self.tau) * target_param.data)"
      ],
      "execution_count": null,
      "outputs": []
    },
    {
      "cell_type": "code",
      "metadata": {
        "id": "YYR36qcLsM6F"
      },
      "source": [
        "EGAgent = EpsilonGreedyAgent(state_size=8, action_size=4, seed=SEED, hypers=basehypers, device=device)"
      ],
      "execution_count": null,
      "outputs": []
    },
    {
      "cell_type": "code",
      "metadata": {
        "id": "N5OqvaA1smX5"
      },
      "source": [
        "EGscores = train(EGAgent)"
      ],
      "execution_count": null,
      "outputs": []
    },
    {
      "cell_type": "code",
      "metadata": {
        "colab": {
          "base_uri": "https://localhost:8080/",
          "height": 365
        },
        "id": "mpBiPujDYSku",
        "outputId": "3011845d-74d6-419f-fb0f-9b0a499102d1"
      },
      "source": [
        "generate_plot('Epsilon_Greedy_Dueling', 'Uniform', EGscores, WINDOW_SIZE)"
      ],
      "execution_count": null,
      "outputs": [
        {
          "output_type": "stream",
          "name": "stdout",
          "text": [
            "First pass in Episode: 389\n",
            "First full pass in Episode: 583\n",
            "Maximum Average Score: 263.32158401770937\n",
            "Maximum Episode Index: 1618\n"
          ]
        },
        {
          "output_type": "display_data",
          "data": {
            "image/png": "[encoded data removed]",
            "text/plain": [
              "<Figure size 432x288 with 1 Axes>"
            ]
          },
          "metadata": {
            "needs_background": "light"
          }
        }
      ]
    },
    {
      "cell_type": "code",
      "metadata": {
        "id": "x6BsDhwYg9ZI"
      },
      "source": [
        "torch.save(EGAgent.qnetwork_primary.state_dict(), f'{MAIN_DIR}/EpsilonGreedyDueling_2000eps_checkpoint.pth')"
      ],
      "execution_count": null,
      "outputs": []
    },
    {
      "cell_type": "markdown",
      "metadata": {
        "id": "z9U1rQM-op4M"
      },
      "source": [
        "## Softmax Greedy Policy\n",
        "This is a variant of the $ϵ$-greedy policy where with probability $ϵ$ the agent chooses an action according to a softmax distribution over the available actions.  This way, even when exploring the agent still uses the information it has already gathered about the environment to make a decision.  In this way, it is inherently more conservative than regular $ϵ$-greedy, because the peak action has an even higher overall chance of being chosen. "
      ]
    },
    {
      "cell_type": "code",
      "metadata": {
        "id": "iz313lGri_Wx"
      },
      "source": [
        "class SoftmaxGreedyAgent:\n",
        "    def __init__(self, state_size: int, action_size: int, seed: int, hypers: dict, device: torch.device):\n",
        "\n",
        "        self.state_size = state_size\n",
        "        self.action_size = action_size\n",
        "        self.seed = seed\n",
        "\n",
        "        self.batch_size    = hypers['BATCH_SIZE']\n",
        "        self.buffer_size   = hypers['BUFFER_SIZE']\n",
        "        self.gamma         = hypers['GAMMA']\n",
        "        self.learning_rate = hypers['LR']\n",
        "        self.tau           = hypers['TAU']\n",
        "        self.update_every  = hypers['UPDATE_EVERY']\n",
        "\n",
        "        self.device = device\n",
        "        \n",
        "        #Primary & Target QNetworks and Optimizer\n",
        "        self.qnetwork_primary = DuelingQNetwork(state_size, action_size, seed).to(device)\n",
        "        self.qnetwork_target = DuelingQNetwork(state_size, action_size, seed).to(device)\n",
        "        self.optimizer = optim.Adam(self.qnetwork_primary.parameters(), lr=self.learning_rate)\n",
        "        \n",
        "        #Replay buffer\n",
        "        self.memory = ReplayBuffer(action_size, self.buffer_size, self.batch_size, seed, device)\n",
        "        # Initialize time step (for updating every UPDATE_EVERY steps)\n",
        "        self.t_step = 0\n",
        "\n",
        "    def step(self, state: np.array, action: int, reward: float, next_state: np.array, done: bool) -> None:\n",
        "        #Add to the memory buffer\n",
        "        self.memory.add(state, action, reward, next_state, done)\n",
        "        \n",
        "        # Learn every UPDATE_EVERY time steps.\n",
        "        self.t_step = (self.t_step + 1) % self.update_every\n",
        "        if self.t_step == 0:\n",
        "            # If enough samples are available in memory, get random subset and learn\n",
        "            if len(self.memory) > self.batch_size:\n",
        "                experiences = self.memory.sample()\n",
        "                self.learn(experiences)\n",
        "\n",
        "    def act(self, state: np.array, eps: float) -> int:\n",
        "        \"\"\"Returns actions for given state as per current policy\"\"\"\n",
        "        state = torch.from_numpy(state).float().unsqueeze(0).to(self.device)\n",
        "        self.qnetwork_primary.eval()\n",
        "        with torch.no_grad():\n",
        "            action_values = self.qnetwork_primary(state)\n",
        "        self.qnetwork_primary.train()\n",
        "\n",
        "        #Softmax-greedy action selection\n",
        "        if random.random() > eps:\n",
        "            return np.argmax(action_values.cpu().data.numpy())\n",
        "        \n",
        "        probs = F.softmax(action_values, dim=1)\n",
        "        probs = probs.squeeze().detach().cpu().numpy()\n",
        "        sel = np.random.choice(self.action_size, size = 1, p = probs)\n",
        "        sel = sel[0]\n",
        "        return sel\n",
        "\n",
        "\n",
        "    def learn(self, experiences: tuple) -> None:\n",
        "        \"\"\"The core of the algorithm, the actual updating of the network parameters\"\"\"\n",
        "        states, actions, rewards, next_states, dones = experiences\n",
        "    \n",
        "        #Select next state actions using the *primary* network\n",
        "        argmax_a_q_sp = self.qnetwork_primary(next_states).max(1)[1]\n",
        "        #Get the next state action values using the *target* network\n",
        "        q_sp = self.qnetwork_target(next_states).detach()\n",
        "        #Index the q-values of the target network using the indices chosen by the primary,\n",
        "        #so: primary network chooses action, target network evaluates action --> DDQN\n",
        "        max_a_q_sp = q_sp[np.arange(self.batch_size), argmax_a_q_sp].unsqueeze(1) * (1 - dones)\n",
        "        #Compute the target values\n",
        "        target_q_sa = rewards + self.gamma * max_a_q_sp\n",
        "        #Get the actual action values\n",
        "        q_sa = self.qnetwork_primary(states).gather(1, actions)\n",
        "        \n",
        "        # Compute loss\n",
        "        loss = F.mse_loss(q_sa, target_q_sa)\n",
        "        # Minimize the loss\n",
        "        self.optimizer.zero_grad()\n",
        "        loss.backward()\n",
        "        self.optimizer.step()\n",
        "\n",
        "        # ------------------- update target network ------------------- #\n",
        "        self.soft_update()\n",
        "\n",
        "\n",
        "    def soft_update(self) -> None:\n",
        "        \"\"\"Soft update model parameters.\n",
        "        θ_target = τ*θ_local + (1 - τ)*θ_target\n",
        "        \"\"\"\n",
        "        for target_param, local_param in zip(self.qnetwork_target.parameters(), self.qnetwork_primary.parameters()):\n",
        "            target_param.data.copy_(self.tau * local_param.data + (1.0 - self.tau) * target_param.data)"
      ],
      "execution_count": null,
      "outputs": []
    },
    {
      "cell_type": "code",
      "metadata": {
        "id": "Ku7Q4L-IzmwX"
      },
      "source": [
        "SGAgent = SoftmaxGreedyAgent(state_size=8, action_size=4, seed=SEED, hypers=basehypers, device=device)"
      ],
      "execution_count": null,
      "outputs": []
    },
    {
      "cell_type": "code",
      "metadata": {
        "colab": {
          "base_uri": "https://localhost:8080/"
        },
        "id": "hcP9fYBVc4jr",
        "outputId": "28ef858a-d712-4e54-cdf4-e2ac1a57079a"
      },
      "source": [
        "SGscores = train(SGAgent)"
      ],
      "execution_count": null,
      "outputs": [
        {
          "output_type": "stream",
          "name": "stdout",
          "text": [
            "Episode 100\tAverage Score: -194.12\n",
            "Episode 200\tAverage Score: -101.27\n",
            "Episode 300\tAverage Score: -29.84\n",
            "Episode 400\tAverage Score: 60.27\n",
            "Episode 500\tAverage Score: 143.97\n",
            "Episode 600\tAverage Score: 170.81\n",
            "Episode 700\tAverage Score: 215.41\n",
            "Episode 800\tAverage Score: 219.59\n",
            "Episode 900\tAverage Score: 224.44\n",
            "Episode 1000\tAverage Score: 152.30\n",
            "Episode 1100\tAverage Score: 240.69\n",
            "Episode 1200\tAverage Score: 201.32\n",
            "Episode 1300\tAverage Score: 213.34\n",
            "Episode 1400\tAverage Score: 230.29\n",
            "Episode 1500\tAverage Score: 245.23\n",
            "Episode 1600\tAverage Score: 247.45\n",
            "Episode 1700\tAverage Score: 255.54\n",
            "Episode 1800\tAverage Score: 256.16\n",
            "Episode 1900\tAverage Score: 247.08\n",
            "Episode 2000\tAverage Score: 241.55\n"
          ]
        }
      ]
    },
    {
      "cell_type": "code",
      "metadata": {
        "colab": {
          "base_uri": "https://localhost:8080/",
          "height": 365
        },
        "id": "2LgInLHdiRsu",
        "outputId": "f0796a79-0d63-4273-90f7-c18cc067a1f8"
      },
      "source": [
        "generate_plot('Softmax_Greedy_Dueling', 'Uniform', SGscores, WINDOW_SIZE)"
      ],
      "execution_count": null,
      "outputs": [
        {
          "output_type": "stream",
          "name": "stdout",
          "text": [
            "First pass in Episode: 177\n",
            "First full pass in Episode: 652\n",
            "Maximum Average Score: 258.65604558797736\n",
            "Maximum Episode Index: 1744\n"
          ]
        },
        {
          "output_type": "display_data",
          "data": {
            "image/png": "[encoded data removed]",
            "text/plain": [
              "<Figure size 432x288 with 1 Axes>"
            ]
          },
          "metadata": {
            "needs_background": "light"
          }
        }
      ]
    },
    {
      "cell_type": "code",
      "metadata": {
        "id": "YsD2mtlwABXl"
      },
      "source": [
        "torch.save(SGAgent.qnetwork_primary.state_dict(), f'{MAIN_DIR}/SoftmaxGreedyDueling_2000eps_checkpoint.pth')"
      ],
      "execution_count": null,
      "outputs": []
    },
    {
      "cell_type": "markdown",
      "metadata": {
        "id": "oh9JySDMc9xm"
      },
      "source": [
        "## Softmax K1 Agent\n",
        "This agent is nearly identical to the Softmax-Greedy Agent, but with one crucial difference: with probability $ϵ$ it assumes that it is *dead wrong* about the highest-value action, and instead chooses one of the other actions with probability corresponding to their relative values.  This Agent is more adventurous than either Softmax-Greedy or $ϵ$-Greedy, in the sense that it is strictly less likely to choose the highest-value action for a given value of the exploration parameter $ϵ$. The name comes from \"Softmax after Killing the #1 Action, otherwise Greedy\"."
      ]
    },
    {
      "cell_type": "code",
      "metadata": {
        "colab": {
          "base_uri": "https://localhost:8080/"
        },
        "id": "L3QNv1_kCnLG",
        "outputId": "ac4ed4a7-efff-427c-f21a-22742c01a06a"
      },
      "source": [
        "a = torch.tensor([0.2, 0.8, 0.1, -0.3])\n",
        "arg = np.argmax(a.numpy())\n",
        "print('a: ', a)\n",
        "print('arg: ', arg)\n",
        "soft = F.softmax(a)\n",
        "print('soft: ', soft)\n",
        "a[arg] = float('-inf')\n",
        "print('modified a: ', a)\n",
        "modsoft = F.softmax(a)\n",
        "print('modsoft: ', modsoft)"
      ],
      "execution_count": null,
      "outputs": [
        {
          "output_type": "stream",
          "name": "stdout",
          "text": [
            "a:  tensor([ 0.2000,  0.8000,  0.1000, -0.3000])\n",
            "arg:  1\n",
            "soft:  tensor([0.2308, 0.4205, 0.2088, 0.1400])\n",
            "modified a:  tensor([ 0.2000,    -inf,  0.1000, -0.3000])\n",
            "modsoft:  tensor([0.3982, 0.0000, 0.3603, 0.2415])\n"
          ]
        },
        {
          "output_type": "stream",
          "name": "stderr",
          "text": [
            "/usr/local/lib/python3.7/dist-packages/ipykernel_launcher.py:5: UserWarning: Implicit dimension choice for softmax has been deprecated. Change the call to include dim=X as an argument.\n",
            "  \"\"\"\n",
            "/usr/local/lib/python3.7/dist-packages/ipykernel_launcher.py:9: UserWarning: Implicit dimension choice for softmax has been deprecated. Change the call to include dim=X as an argument.\n",
            "  if __name__ == '__main__':\n"
          ]
        }
      ]
    },
    {
      "cell_type": "code",
      "metadata": {
        "id": "I1H3BTZpc5fj"
      },
      "source": [
        "class SoftmaxK1Agent:\n",
        "    def __init__(self, state_size: int, action_size: int, seed: int, hypers: dict, device: torch.device):\n",
        "\n",
        "        self.state_size = state_size\n",
        "        self.action_size = action_size\n",
        "        self.seed = seed\n",
        "\n",
        "        self.batch_size    = hypers['BATCH_SIZE']\n",
        "        self.buffer_size   = hypers['BUFFER_SIZE']\n",
        "        self.gamma         = hypers['GAMMA']\n",
        "        self.learning_rate = hypers['LR']\n",
        "        self.tau           = hypers['TAU']\n",
        "        self.update_every  = hypers['UPDATE_EVERY']\n",
        "\n",
        "        self.device = device\n",
        "        \n",
        "        #Primary & Target QNetworks and Optimizer\n",
        "        self.qnetwork_primary = DuelingQNetwork(state_size, action_size, seed).to(device)\n",
        "        self.qnetwork_target = DuelingQNetwork(state_size, action_size, seed).to(device)\n",
        "        self.optimizer = optim.Adam(self.qnetwork_primary.parameters(), lr=self.learning_rate)\n",
        "        \n",
        "        #Replay buffer\n",
        "        self.memory = ReplayBuffer(action_size, self.buffer_size, self.batch_size, seed, device)\n",
        "        # Initialize time step (for updating every UPDATE_EVERY steps)\n",
        "        self.t_step = 0\n",
        "\n",
        "    def step(self, state: np.array, action: int, reward: float, next_state: np.array, done: bool) -> None:\n",
        "        #Add to the memory buffer\n",
        "        self.memory.add(state, action, reward, next_state, done)\n",
        "        \n",
        "        # Learn every UPDATE_EVERY time steps.\n",
        "        self.t_step = (self.t_step + 1) % self.update_every\n",
        "        if self.t_step == 0:\n",
        "            # If enough samples are available in memory, get random subset and learn\n",
        "            if len(self.memory) > self.batch_size:\n",
        "                experiences = self.memory.sample()\n",
        "                self.learn(experiences)\n",
        "\n",
        "    def act(self, state: np.array, eps: float) -> int:\n",
        "        \"\"\"Returns actions for given state as per current policy\"\"\"\n",
        "        state = torch.from_numpy(state).float().unsqueeze(0).to(self.device)\n",
        "        self.qnetwork_primary.eval()\n",
        "        with torch.no_grad():\n",
        "            action_values = self.qnetwork_primary(state)\n",
        "        self.qnetwork_primary.train()\n",
        "\n",
        "        #Softmax-greedy action selection\n",
        "        if random.random() > eps:\n",
        "            return np.argmax(action_values.cpu().data.numpy())\n",
        "\n",
        "        #print('action_values: ', action_values)\n",
        "        argmax_q = np.argmax(action_values.cpu().data.numpy())           #Identify the biggest value\n",
        "        #print(f'argmax_q: {argmax_q}')\n",
        "        action_values[0][argmax_q] = float('-inf')                          #Set the biggest value to negative infinity\n",
        "        probs = F.softmax(action_values, dim=1)                          #Compute softmax values\n",
        "        probs = probs.squeeze().detach().cpu().numpy()                 \n",
        "        sel = np.random.choice(self.action_size, size = 1, p = probs)    #Select action, ordinarily peak value will NOT be selected\n",
        "        sel = sel[0]\n",
        "        return sel\n",
        "        \n",
        "\n",
        "    def learn(self, experiences: tuple) -> None:\n",
        "        \"\"\"The core of the algorithm, the actual updating of the network parameters\"\"\"\n",
        "        states, actions, rewards, next_states, dones = experiences\n",
        "    \n",
        "        #Select next state actions using the *primary* network\n",
        "        argmax_a_q_sp = self.qnetwork_primary(next_states).max(1)[1]\n",
        "        #Get the next state action values using the *target* network\n",
        "        q_sp = self.qnetwork_target(next_states).detach()\n",
        "        #Index the q-values of the target network using the indices chosen by the primary,\n",
        "        #so: primary network chooses action, target network evaluates action --> DDQN\n",
        "        max_a_q_sp = q_sp[np.arange(self.batch_size), argmax_a_q_sp].unsqueeze(1) * (1 - dones)\n",
        "        #Compute the target values\n",
        "        target_q_sa = rewards + self.gamma * max_a_q_sp\n",
        "        #Get the actual action values\n",
        "        q_sa = self.qnetwork_primary(states).gather(1, actions)\n",
        "        \n",
        "        # Compute loss\n",
        "        loss = F.mse_loss(q_sa, target_q_sa)\n",
        "        # Minimize the loss\n",
        "        self.optimizer.zero_grad()\n",
        "        loss.backward()\n",
        "        self.optimizer.step()\n",
        "\n",
        "        # ------------------- update target network ------------------- #\n",
        "        self.soft_update()\n",
        "\n",
        "\n",
        "    def soft_update(self) -> None:\n",
        "        \"\"\"Soft update model parameters.\n",
        "        θ_target = τ*θ_local + (1 - τ)*θ_target\n",
        "        \"\"\"\n",
        "        for target_param, local_param in zip(self.qnetwork_target.parameters(), self.qnetwork_primary.parameters()):\n",
        "            target_param.data.copy_(self.tau * local_param.data + (1.0 - self.tau) * target_param.data)"
      ],
      "execution_count": null,
      "outputs": []
    },
    {
      "cell_type": "code",
      "metadata": {
        "id": "0y8dMVSDfI7m"
      },
      "source": [
        "SK1Agent = SoftmaxK1Agent(state_size=8, action_size=4, seed=SEED, hypers=basehypers, device=device)"
      ],
      "execution_count": null,
      "outputs": []
    },
    {
      "cell_type": "code",
      "metadata": {
        "colab": {
          "base_uri": "https://localhost:8080/"
        },
        "id": "MTfA_BwRFSrh",
        "outputId": "2aeecafa-efdf-4c9d-de36-905ac28007c0"
      },
      "source": [
        "SK1scores = train(SK1Agent)"
      ],
      "execution_count": null,
      "outputs": [
        {
          "output_type": "stream",
          "name": "stdout",
          "text": [
            "Episode 100\tAverage Score: -160.00\n",
            "Episode 200\tAverage Score: -112.76\n",
            "Episode 300\tAverage Score: -29.44\n",
            "Episode 400\tAverage Score: 69.65\n",
            "Episode 500\tAverage Score: 182.11\n",
            "Episode 600\tAverage Score: 213.98\n",
            "Episode 700\tAverage Score: 206.26\n",
            "Episode 800\tAverage Score: 216.86\n",
            "Episode 900\tAverage Score: 215.06\n",
            "Episode 1000\tAverage Score: 223.36\n",
            "Episode 1100\tAverage Score: 220.00\n",
            "Episode 1200\tAverage Score: 254.17\n",
            "Episode 1300\tAverage Score: 243.31\n",
            "Episode 1400\tAverage Score: 181.88\n",
            "Episode 1500\tAverage Score: 202.53\n",
            "Episode 1600\tAverage Score: 217.63\n",
            "Episode 1700\tAverage Score: 235.15\n",
            "Episode 1800\tAverage Score: 239.40\n",
            "Episode 1900\tAverage Score: 246.03\n",
            "Episode 2000\tAverage Score: 248.46\n"
          ]
        }
      ]
    },
    {
      "cell_type": "code",
      "metadata": {
        "colab": {
          "base_uri": "https://localhost:8080/",
          "height": 365
        },
        "id": "4o5lK3a1FV74",
        "outputId": "89046efa-ae96-4f96-c9f5-bdaa6910a0b1"
      },
      "source": [
        "generate_plot('SoftmaxK1_Dueling', 'Uniform', SK1scores, WINDOW_SIZE)"
      ],
      "execution_count": null,
      "outputs": [
        {
          "output_type": "stream",
          "name": "stdout",
          "text": [
            "First pass in Episode: 319\n",
            "First full pass in Episode: 551\n",
            "Maximum Average Score: 254.57870938091645\n",
            "Maximum Episode Index: 1193\n"
          ]
        },
        {
          "output_type": "display_data",
          "data": {
            "image/png": "[encoded data removed]",
            "text/plain": [
              "<Figure size 432x288 with 1 Axes>"
            ]
          },
          "metadata": {
            "needs_background": "light"
          }
        }
      ]
    },
    {
      "cell_type": "code",
      "metadata": {
        "id": "-NC185JlFf7c"
      },
      "source": [
        "torch.save(SK1Agent.qnetwork_primary.state_dict(), f'{MAIN_DIR}/SoftmaxK1Dueling_2000eps_checkpoint.pth')"
      ],
      "execution_count": null,
      "outputs": []
    }
  ]
}